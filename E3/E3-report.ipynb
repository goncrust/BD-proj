{
 "cells": [
  {
   "attachments": {},
   "cell_type": "markdown",
   "id": "19b43aee-c23f-4ef7-8547-9c309b2dbecb",
   "metadata": {},
   "source": [
    "# Projeto de Bases de Dados - Parte 3\n",
    "\n",
    "### Docente Responsável\n",
    "\n",
    "Prof. Flávio Martins\n",
    "\n",
    "### Grupo 10 - BD2L12\n",
    "<dl>\n",
    "    <dt>6 horas (33.3%)</dt>\n",
    "    <dd>ist1102492 Francisco Fonseca</dd>\n",
    "    <dt>6 horas (33.3%)</dt>\n",
    "    <dd>ist1102604 Gonçalo Rua</dd>\n",
    "    <dt>6 horas (33.3%)</dt>\n",
    "    <dd>ist1102611 João Gouveia</dd>\n",
    "<dl>"
   ]
  },
  {
   "cell_type": "code",
   "execution_count": null,
   "id": "a6545a02-adea-4c57-b704-cfa1f6253e4b",
   "metadata": {
    "tags": []
   },
   "outputs": [],
   "source": [
    "%load_ext sql\n",
    "%sql postgresql://db:db@postgres/db"
   ]
  },
  {
   "attachments": {},
   "cell_type": "markdown",
   "id": "1c5deb6e-396e-401f-9b09-af4cd09491a9",
   "metadata": {
    "tags": []
   },
   "source": [
    "# Empresa de comércio online"
   ]
  },
  {
   "attachments": {},
   "cell_type": "markdown",
   "id": "76eab1e8-8d6a-41e3-b242-553a7f14ba84",
   "metadata": {
    "tags": []
   },
   "source": [
    "## 0. Carregamento da Base de Dados"
   ]
  },
  {
   "attachments": {},
   "cell_type": "markdown",
   "id": "e047df4e-b18b-4c70-8f7b-378b4201ee01",
   "metadata": {},
   "source": [
    "Carregue o esquema de Base de Dados apresentado no Anexo A."
   ]
  },
  {
   "cell_type": "code",
   "execution_count": null,
   "id": "c718077c-5193-47a0-bb76-8f1f43a713be",
   "metadata": {},
   "outputs": [],
   "source": [
    "%sql -f schema.sql"
   ]
  },
  {
   "attachments": {},
   "cell_type": "markdown",
   "id": "25fcb3f3-2ec6-4264-bd74-d07bfd56fa76",
   "metadata": {},
   "source": [
    "Crie as instruções para o seu preenchimento de forma consistente, garantindo que todas as consultas SQL e OLAP, apresentadas mais adiante, produzam um resultado não vazio. "
   ]
  },
  {
   "cell_type": "code",
   "execution_count": null,
   "id": "e33d841c-c21e-4a9a-88b4-00b45b039261",
   "metadata": {
    "tags": []
   },
   "outputs": [],
   "source": [
    "%sql -f populate.sql"
   ]
  },
  {
   "attachments": {},
   "cell_type": "markdown",
   "id": "9772880f-58f0-46c8-9670-737390210bb4",
   "metadata": {
    "tags": []
   },
   "source": [
    "## 1. Restrições de Integridade\n",
    "\n",
    "Apresente o código para implementar as seguintes restrições de integridade, se necessário, com recurso a extensões procedimentais SQL (Stored Procedures e Triggers):"
   ]
  },
  {
   "attachments": {},
   "cell_type": "markdown",
   "id": "a0a92dd6-9093-4f4e-addf-591d83c466b3",
   "metadata": {},
   "source": [
    "(RI-1) Nenhum empregado pode ter menos de 18 anos de idade"
   ]
  },
  {
   "cell_type": "code",
   "execution_count": null,
   "id": "c422052c-0463-46ae-9be1-b6f6ed19d2b9",
   "metadata": {
    "tags": []
   },
   "outputs": [],
   "source": [
    "%%sql\n",
    "ALTER TABLE employee\n",
    "    ADD CHECK (EXTRACT(YEAR FROM (SELECT Now() - bdate)) >= 18);"
   ]
  },
  {
   "attachments": {},
   "cell_type": "markdown",
   "id": "e99193b5-fd48-4601-a226-34432074af53",
   "metadata": {},
   "source": [
    "(RI-2) Um 'Workplace' é obrigatoriamente um 'Office' ou 'Warehouse' mas não pode ser ambos"
   ]
  },
  {
   "cell_type": "code",
   "execution_count": null,
   "id": "188ec396-6e55-4fd3-b436-dcafe454f677",
   "metadata": {
    "tags": []
   },
   "outputs": [],
   "source": [
    "%%sql\n",
    "CREATE OR REPLACE FUNCTION workplace_trigger() RETURNS TRIGGER AS\n",
    "$$\n",
    "BEGIN\n",
    "    IF EXISTS(SELECT address FROM warehouse WHERE address = NEW.address)\n",
    "        AND EXISTS(SELECT address FROM office WHERE address = NEW.address) THEN\n",
    "            RAISE EXCEPTION 'Address must be in warehouse or office but not both';\n",
    "    ELSE\n",
    "        IF NOT EXISTS (SELECT address FROM office WHERE address = NEW.address) THEN\n",
    "            RAISE EXCEPTION 'Address must be in warehouse or office';\n",
    "        END IF;\n",
    "    END IF;\n",
    "    RETURN NEW;\n",
    "END\n",
    "$$ LANGUAGE plpgsql;\n",
    "\n",
    "CREATE TRIGGER check_office AFTER INSERT OR DELETE office\n",
    "    FOR EACH ROW EXECUTE FUNCTION workplace_trigger();\n",
    "CREATE TRIGGER check_warehouse AFTER INSERT OR DELETE warehouse\n",
    "    FOR EACH ROW EXECUTE FUNCTION workplace_trigger();\n",
    "CREATE TRIGGER check_workplace AFTER INSERT workplace\n",
    "    DEFERRABLE INITIALLY DEFERRED\n",
    "    FOR EACH ROW EXECUTE FUNCTION workplace_trigger();"
   ]
  },
  {
   "attachments": {},
   "cell_type": "markdown",
   "id": "7e659751-bbd0-475a-b36e-8d40d7d58a54",
   "metadata": {},
   "source": [
    "(RI-3) Uma 'Order' tem de figurar obrigatoriamente em 'Contains'."
   ]
  },
  {
   "cell_type": "code",
   "execution_count": null,
   "id": "f2993b94-77a8-4b09-b522-f39021c55131",
   "metadata": {
    "tags": []
   },
   "outputs": [],
   "source": [
    "%%sql\n",
    "CREATE OR REPLACE FUNCTION order_trigger() RETURNS TRIGGER AS\n",
    "$$\n",
    "BEGIN\n",
    "    IF NOT EXISTS(SELECT order_no FROM contains WHERE order_no = NEW.order_no) THEN\n",
    "        RAISE EXCEPTION 'order_no must exist in contains';\n",
    "    END IF;\n",
    "END\n",
    "$$ LANGUAGE plpgsql;\n",
    "\n",
    "CREATE TRIGGER check_order AFTER INSERT orders\n",
    "    DEFERRABLE INITIALLY DEFERRED\n",
    "    FOR EACH ROW EXECUTE FUNCTION order_trigger();"
   ]
  },
  {
   "attachments": {},
   "cell_type": "markdown",
   "id": "37637f46-470f-431a-9833-4d8665176450",
   "metadata": {
    "tags": []
   },
   "source": [
    "## 2. Consultas SQL"
   ]
  },
  {
   "attachments": {},
   "cell_type": "markdown",
   "id": "f861ee47-e72b-4633-8dac-b4728ed852b9",
   "metadata": {},
   "source": [
    "Apresente a consulta SQL mais sucinta para cada uma das seguintes questões"
   ]
  },
  {
   "attachments": {},
   "cell_type": "markdown",
   "id": "fd2e1654-059e-4ef5-a63d-5e81280baab0",
   "metadata": {},
   "source": [
    "1) Qual o número e nome do(s) cliente(s) com maior valor total de encomendas pagas?  "
   ]
  },
  {
   "cell_type": "code",
   "execution_count": null,
   "id": "5b79ced0-279d-4e04-921e-0c831d7a79f2",
   "metadata": {
    "tags": []
   },
   "outputs": [],
   "source": [
    "%%sql\n",
    "SELECT cust_no, name FROM pay\n",
    "    NATURAL JOIN contains\n",
    "    NATURAL JOIN product\n",
    "    NATURAL JOIN customer\n",
    "    GROUP_BY order_no\n",
    "    HAVING SUM(price*qty) >= ALL (\n",
    "        SELECT SUM(price*qty) FROM pay\n",
    "            NATURAL JOIN constains\n",
    "            NATURAL JOIN product\n",
    "            GROUP_BY order_no\n",
    "    );"
   ]
  },
  {
   "attachments": {},
   "cell_type": "markdown",
   "id": "4f863499-c40e-428c-85e8-d2741362906d",
   "metadata": {},
   "source": [
    "2. Qual o nome dos empregados que processaram encomendas em todos os dias de 2022 em que houve encomendas?"
   ]
  },
  {
   "cell_type": "code",
   "execution_count": null,
   "id": "aadac5e9-d0e4-46e0-bab5-33d00b863884",
   "metadata": {
    "tags": []
   },
   "outputs": [],
   "source": [
    "%%sql\n",
    "SELECT name FROM employee e\n",
    "    WHERE NOT EXISTS (\n",
    "        SELECT DISTINCT date FROM orders\n",
    "            WHERE EXTRACT(YEAR FROM date) = 2022\n",
    "        EXCEPT\n",
    "        SELECT DISTINCT date FROM orders\n",
    "            NATURAL JOIN process\n",
    "            WHERE ssn = e.ssn AND\n",
    "                EXTRACT(YEAR FROM date) = 2022\n",
    "    );"
   ]
  },
  {
   "attachments": {},
   "cell_type": "markdown",
   "id": "e871bc9e-60c4-465b-a727-9ff2d2115d0b",
   "metadata": {},
   "source": [
    "3. Quantas encomendas foram realizadas mas não pagas em cada mês de 2022?"
   ]
  },
  {
   "cell_type": "code",
   "execution_count": null,
   "id": "3e3e702e-1acb-4004-aa9e-31e4d5916669",
   "metadata": {
    "tags": []
   },
   "outputs": [],
   "source": [
    "%%sql\n",
    "SELECT EXTRACT(MONTH FROM date) AS \"month\", SUM(*) FROM orders o\n",
    "    WHERE NOT EXISTS (\n",
    "        SELECT order_no FROM orders\n",
    "            WHERE order_no = o.order_no AND\n",
    "                EXTRACT(YEAR FROM date) = 2022\n",
    "        EXCEPT\n",
    "        SELECT order_no FROM pay\n",
    "            WHERE order_no = o.order_no AND\n",
    "                EXTRACT(YEAR FROM date) = 2022\n",
    "    )\n",
    "    GROUP BY month;"
   ]
  },
  {
   "attachments": {},
   "cell_type": "markdown",
   "id": "97f45cec-fe42-418a-b85d-c9e51807a42c",
   "metadata": {},
   "source": [
    "## 3. Vistas"
   ]
  },
  {
   "attachments": {},
   "cell_type": "markdown",
   "id": "03062b56-40fa-41c0-aac9-3e77b9049c27",
   "metadata": {},
   "source": [
    "Crie uma vista que resuma as informações mais importantes sobre as vendas de produtos, combinando informações de diferentes tabelas do esquema de base de dados. A vista deve ter o seguinte esquema:\n",
    "\n",
    "product_sales(sku, order_no, qty, total_price, year, month, day_of_month, day_of_week, city)"
   ]
  },
  {
   "cell_type": "code",
   "execution_count": null,
   "id": "0bbb2226-5de4-4051-b4c0-9130bd4904f5",
   "metadata": {
    "tags": []
   },
   "outputs": [],
   "source": [
    "%%sql\n",
    "CREATE VIEW product_sales AS\n",
    "    SELECT sku, order_no, qty, SUM(qty*price), EXTRACT(YEAR FROM date), EXTRACT(MONTH FROM date),\n",
    "        EXTRACT(DAY FROM date), EXTRACT(DOW FROM date), \n",
    "            SUBSTRING(address, CHARINDEX('-', address) + 5, \n",
    "                LEN(address) - CHARINDEX('-', address) + 6) AS \"city\" FROM pay\n",
    "        NATURAL JOIN customer\n",
    "        NATURAL JOIN orders\n",
    "        NATURAL JOIN contains\n",
    "        NATURAL JOIN product\n",
    "        GROUP BY sku, order_no;"
   ]
  },
  {
   "attachments": {},
   "cell_type": "markdown",
   "id": "6b615865-602f-4974-9de1-27d0060362ef",
   "metadata": {
    "tags": []
   },
   "source": [
    "## 4. Desenvolvimento de Aplicação"
   ]
  },
  {
   "attachments": {},
   "cell_type": "markdown",
   "id": "0bad635d-f5c2-449f-97b0-90d10a4d482b",
   "metadata": {},
   "source": [
    "### Explicação da arquitetura da aplicação web, incluindo um link para uma versão de trabalho e as relações entre os vários ficheiros na pasta web/arquivos\n",
    "\n",
    "..."
   ]
  },
  {
   "attachments": {},
   "cell_type": "markdown",
   "id": "5dff0f43-90cc-4ab5-b874-c3fb24776728",
   "metadata": {},
   "source": [
    "## 5. Consultas OLAP"
   ]
  },
  {
   "attachments": {},
   "cell_type": "markdown",
   "id": "5c8c25ed-b858-4daf-a291-b59e489c0a44",
   "metadata": {},
   "source": [
    "Usando a vista desenvolvida para a Questão 3, escreva duas consultas SQL que permitam analisar:"
   ]
  },
  {
   "attachments": {},
   "cell_type": "markdown",
   "id": "bd8d173c-e72f-4e89-8949-e2df3b7b07a3",
   "metadata": {},
   "source": [
    "1. As quantidade e valores totais de venda de cada produto em 2022, globalmente, por cidade, por mês, dia do mês e dia da semana"
   ]
  },
  {
   "cell_type": "code",
   "execution_count": null,
   "id": "bf12ce01-15c0-4e7c-b329-576dd344ebf6",
   "metadata": {
    "tags": []
   },
   "outputs": [],
   "source": [
    "%%sql\n",
    "-- SELECT ..."
   ]
  },
  {
   "attachments": {},
   "cell_type": "markdown",
   "id": "a6f88296-429c-4c1c-9a7a-5cbe9cb65920",
   "metadata": {},
   "source": [
    "2. O valor médio diário das vendas de todos os produtos em 2022, globalmente, por mês e dia da semana"
   ]
  },
  {
   "cell_type": "code",
   "execution_count": null,
   "id": "7aac0901-02ad-4a40-964e-dc03430f8e77",
   "metadata": {
    "tags": []
   },
   "outputs": [],
   "source": [
    "%%sql\n",
    "-- SELECT ..."
   ]
  },
  {
   "attachments": {},
   "cell_type": "markdown",
   "id": "5a75300b-51d0-4512-8b50-ffac98d66070",
   "metadata": {
    "tags": []
   },
   "source": [
    "## 6. Índices"
   ]
  },
  {
   "attachments": {},
   "cell_type": "markdown",
   "id": "35f160cc-30e9-4381-9b3e-0d78ef421af8",
   "metadata": {
    "tags": []
   },
   "source": [
    "Indique, com a devida justificação, que tipo de índice(s), sobre qual(is) atributo(s) e sobre qual(is) tabela(s) faria sentido criar, de forma a agilizar a execução de cada uma das seguintes consultas: "
   ]
  },
  {
   "attachments": {},
   "cell_type": "markdown",
   "id": "6e6e7eb2-c8ba-4d93-a31b-a2384d538fc0",
   "metadata": {},
   "source": [
    "### 6.1\n",
    "SELECT order_no\n",
    "FROM orders \n",
    "JOIN contains USING (order_no) \n",
    "JOIN product USING (SKU) \n",
    "WHERE price > 50 AND \n",
    "EXTRACT(YEAR FROM date) = 2023"
   ]
  },
  {
   "attachments": {},
   "cell_type": "markdown",
   "id": "b12768c7-efcc-4550-a7c1-7f8bbafd6409",
   "metadata": {},
   "source": [
    "### Tipo de Índice, Atributos & Justificação\n",
    "\n",
    "Índice B-Tree sobre o atributo price da tabela product para otimizar o filtro **price > 50**, por ser o índice ideal para consultas de range.\n",
    "\n",
    "Índice Hash sobre o atributo order_no da tabela orders e da tabela contains e sobre o atributo SKU da tabela contains e da tabela product, com o propósito de otimizar a operação JOIN, já que este é o melhor para seleção por igualdade. (?)\n",
    "\n",
    "Índice Hash sobre o atributo date para otimizar o filtro **date = 2023**, por ser o índice ideal para seleção por igualdade."
   ]
  },
  {
   "attachments": {},
   "cell_type": "markdown",
   "id": "89f6cb2b-8425-42f8-810c-9c9e5797b686",
   "metadata": {},
   "source": [
    "### 6.2\n",
    "SELECT order_no, SUM(qty*price)\n",
    "FROM contains \n",
    "JOIN product USING (SKU) \n",
    "WHERE name LIKE ‘A%’ \n",
    "GROUP BY order_no;"
   ]
  },
  {
   "attachments": {},
   "cell_type": "markdown",
   "id": "1af12988-e1f5-4a72-835d-9aba30d0ce88",
   "metadata": {},
   "source": [
    "### Tipo de Índice, Atributos & Justificação\n",
    "\n",
    "..."
   ]
  }
 ],
 "metadata": {
  "kernelspec": {
   "display_name": "Python 3.11.3 64-bit",
   "language": "python",
   "name": "python3"
  },
  "language_info": {
   "codemirror_mode": {
    "name": "ipython",
    "version": 3
   },
   "file_extension": ".py",
   "mimetype": "text/x-python",
   "name": "python",
   "nbconvert_exporter": "python",
   "pygments_lexer": "ipython3",
   "version": "3.11.3"
  },
  "vscode": {
   "interpreter": {
    "hash": "e7370f93d1d0cde622a1f8e1c04877d8463912d04d973331ad4851f04de6915a"
   }
  }
 },
 "nbformat": 4,
 "nbformat_minor": 5
}
